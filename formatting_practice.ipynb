{
 "cells": [
  {
   "cell_type": "code",
   "execution_count": 0,
   "metadata": {
    "application/vnd.databricks.v1+cell": {
     "cellMetadata": {
      "byteLimit": 2048000,
      "rowLimit": 10000
     },
     "inputWidgets": {},
     "nuid": "3f1848ef-457c-4e44-a9e7-65d7fe880e6c",
     "showTitle": false,
     "tableResultSettingsMap": {},
     "title": ""
    }
   },
   "outputs": [],
   "source": [
    "from env import env\n",
    "from src import utils, excel\n",
    "\n",
    "import openpyxl\n",
    "import pandas as pd\n",
    "\n",
    "from pyspark.sql import functions as F"
   ]
  },
  {
   "cell_type": "code",
   "execution_count": 0,
   "metadata": {
    "application/vnd.databricks.v1+cell": {
     "cellMetadata": {
      "byteLimit": 2048000,
      "rowLimit": 10000
     },
     "inputWidgets": {},
     "nuid": "a5802601-46d3-4d08-b9d2-d2577b7163d6",
     "showTitle": false,
     "tableResultSettingsMap": {},
     "title": ""
    }
   },
   "outputs": [],
   "source": [
    "wb = openpyxl.load_workbook('practice_template.xlsx')\n",
    "print(wb.sheetnames)"
   ]
  },
  {
   "cell_type": "code",
   "execution_count": 0,
   "metadata": {
    "application/vnd.databricks.v1+cell": {
     "cellMetadata": {},
     "inputWidgets": {},
     "nuid": "21918582-f2a0-45cb-8612-637dc1f819ec",
     "showTitle": false,
     "tableResultSettingsMap": {},
     "title": ""
    }
   },
   "outputs": [],
   "source": [
    "# add your sheet name between the quotes and run to create your sheet object\n",
    "ws = wb['']"
   ]
  },
  {
   "cell_type": "markdown",
   "metadata": {
    "application/vnd.databricks.v1+cell": {
     "cellMetadata": {},
     "inputWidgets": {},
     "nuid": "f26d79fe-3a4c-4a72-960f-3bbd9b6a0460",
     "showTitle": false,
     "tableResultSettingsMap": {},
     "title": ""
    }
   },
   "source": [
    "# Copying cell formats"
   ]
  },
  {
   "cell_type": "markdown",
   "metadata": {
    "application/vnd.databricks.v1+cell": {
     "cellMetadata": {},
     "inputWidgets": {},
     "nuid": "5e7450be-0fe8-47d4-b15a-1a8a1f29fc8f",
     "showTitle": false,
     "tableResultSettingsMap": {},
     "title": ""
    }
   },
   "source": [
    "We can use the function below to copy formatting from one cell to another. This is the python way of doing copy + paste formatting only.\n",
    "\n",
    "You just have to pass it the cell objects of the cell you're copying from, and the cell you're pasting to."
   ]
  },
  {
   "cell_type": "code",
   "execution_count": 0,
   "metadata": {
    "application/vnd.databricks.v1+cell": {
     "cellMetadata": {},
     "inputWidgets": {},
     "nuid": "4659b6d9-10c5-4653-84f6-9cd053ba431a",
     "showTitle": false,
     "tableResultSettingsMap": {},
     "title": ""
    }
   },
   "outputs": [],
   "source": [
    "from copy import copy\n",
    "\n",
    "def copy_all_cell_styles(from_cell, to_cell):\n",
    "    \"\"\"\n",
    "    Copies all cell styles from one cell to another.\n",
    "\n",
    "    Parameters:\n",
    "    from_cell: (openpyxl cell object): The cell from which to copy the styles.\n",
    "    to_cell: (openpyxl cell object): The cell to which the styles will be copied.\n",
    "\n",
    "    Returns:\n",
    "    to_cell: (openpyxl cell object): The cell with the copied styles.\n",
    "    \"\"\"\n",
    "    to_cell.font = copy(from_cell.font)\n",
    "    to_cell.border = copy(from_cell.border)\n",
    "    to_cell.fill = copy(from_cell.fill)\n",
    "    to_cell.number_format = copy(from_cell.number_format)\n",
    "    to_cell.protection = copy(from_cell.protection)\n",
    "    to_cell.alignment = copy(from_cell.alignment)\n",
    "\n",
    "    return to_cell"
   ]
  },
  {
   "cell_type": "markdown",
   "metadata": {
    "application/vnd.databricks.v1+cell": {
     "cellMetadata": {},
     "inputWidgets": {},
     "nuid": "4e92e523-a8b9-47ba-903d-032aa8a9bf9c",
     "showTitle": false,
     "tableResultSettingsMap": {},
     "title": ""
    }
   },
   "source": [
    "Practice using this function. Instructions:\n",
    "\n",
    "1. Pick two cells in the practice template, one to copy from, one to paste to.\n",
    "2. Make two cell objects by passing row and column numbers to the .cell() method of the worksheet you created earlier, for example: `cell_to_copy_from = my_worksheet.cell(row=1, column=1)`\n",
    "3. Call the `copy_all_cell_styles()` function and pass these cell objects to it.\n",
    "4. Save your workbook and check the results!\n",
    "5. Put your code in the cell below"
   ]
  },
  {
   "cell_type": "code",
   "execution_count": 0,
   "metadata": {
    "application/vnd.databricks.v1+cell": {
     "cellMetadata": {},
     "inputWidgets": {},
     "nuid": "402d046e-3892-4f7f-b28e-09ddca323bb0",
     "showTitle": false,
     "tableResultSettingsMap": {},
     "title": ""
    }
   },
   "outputs": [],
   "source": []
  },
  {
   "cell_type": "markdown",
   "metadata": {
    "application/vnd.databricks.v1+cell": {
     "cellMetadata": {},
     "inputWidgets": {},
     "nuid": "60913810-8e74-4938-9b79-0b1f80e9db80",
     "showTitle": false,
     "tableResultSettingsMap": {},
     "title": ""
    }
   },
   "source": [
    "Let's do another one. Use the same method to copy the cell at the end of the formatted table to the unformatted cell directly to the right of it.\n",
    "Put your code in the cell below:"
   ]
  },
  {
   "cell_type": "code",
   "execution_count": 0,
   "metadata": {
    "application/vnd.databricks.v1+cell": {
     "cellMetadata": {},
     "inputWidgets": {},
     "nuid": "051b46d3-4a4f-4eb5-8b29-61b2e9c96851",
     "showTitle": false,
     "tableResultSettingsMap": {},
     "title": ""
    }
   },
   "outputs": [],
   "source": []
  },
  {
   "cell_type": "markdown",
   "metadata": {
    "application/vnd.databricks.v1+cell": {
     "cellMetadata": {},
     "inputWidgets": {},
     "nuid": "e0506d54-2af6-49c8-b24d-a46cd45cda4f",
     "showTitle": false,
     "tableResultSettingsMap": {},
     "title": ""
    }
   },
   "source": [
    "What about the cell below the header, can you update this formatting too?"
   ]
  },
  {
   "cell_type": "code",
   "execution_count": 0,
   "metadata": {
    "application/vnd.databricks.v1+cell": {
     "cellMetadata": {},
     "inputWidgets": {},
     "nuid": "55b02db8-5218-477a-857e-528e6e0d82cb",
     "showTitle": false,
     "tableResultSettingsMap": {},
     "title": ""
    }
   },
   "outputs": [],
   "source": []
  },
  {
   "cell_type": "markdown",
   "metadata": {
    "application/vnd.databricks.v1+cell": {
     "cellMetadata": {},
     "inputWidgets": {},
     "nuid": "c2fbaff4-ab37-40ed-85dc-771c961a550c",
     "showTitle": false,
     "tableResultSettingsMap": {},
     "title": ""
    }
   },
   "source": [
    "We'd have to do a lot of copying and pasting and updating to format all the cells manually like this.\n",
    "\n",
    "Instead we can use a loop, and put our function call inside it. That means that the function will be called every iteration of the loop. They we just need a way to increment the row number.\n",
    "\n",
    "Let's build this up step by step. First, use `range()` to create the right range of row numbers that you need:"
   ]
  },
  {
   "cell_type": "code",
   "execution_count": 0,
   "metadata": {
    "application/vnd.databricks.v1+cell": {
     "cellMetadata": {},
     "inputWidgets": {},
     "nuid": "e9359abd-5320-4a7c-ad02-4bcacd3a3143",
     "showTitle": false,
     "tableResultSettingsMap": {},
     "title": ""
    }
   },
   "outputs": [],
   "source": []
  },
  {
   "cell_type": "markdown",
   "metadata": {
    "application/vnd.databricks.v1+cell": {
     "cellMetadata": {},
     "inputWidgets": {},
     "nuid": "3e4f4941-bd00-4968-8480-2e29f051609c",
     "showTitle": false,
     "tableResultSettingsMap": {},
     "title": ""
    }
   },
   "source": [
    "next, add that range to a `for` loop. To start with, just print the numbers you're looping over, to make sure they are the right ones."
   ]
  },
  {
   "cell_type": "code",
   "execution_count": 0,
   "metadata": {
    "application/vnd.databricks.v1+cell": {
     "cellMetadata": {},
     "inputWidgets": {},
     "nuid": "876a9392-6985-4d9a-aa6a-70444ccdf23f",
     "showTitle": false,
     "tableResultSettingsMap": {},
     "title": ""
    }
   },
   "outputs": [],
   "source": []
  },
  {
   "cell_type": "markdown",
   "metadata": {
    "application/vnd.databricks.v1+cell": {
     "cellMetadata": {},
     "inputWidgets": {},
     "nuid": "52fb9660-d687-4fb9-8b6a-1027f6fd4913",
     "showTitle": false,
     "tableResultSettingsMap": {},
     "title": ""
    }
   },
   "source": [
    "Next, add the `copy_all_cell_styles()` function to your loop. You can copy and paste it from the one you made above. \n",
    "\n",
    "What do you need to edit to make sure that each loop, the function will be formatting a different cell?\n",
    "How do we make sure it's copying from and pasting to the correct cells?"
   ]
  },
  {
   "cell_type": "code",
   "execution_count": 0,
   "metadata": {
    "application/vnd.databricks.v1+cell": {
     "cellMetadata": {},
     "inputWidgets": {},
     "nuid": "e49ca375-9294-4025-a701-eb169783e12c",
     "showTitle": false,
     "tableResultSettingsMap": {},
     "title": ""
    }
   },
   "outputs": [],
   "source": []
  },
  {
   "cell_type": "markdown",
   "metadata": {
    "application/vnd.databricks.v1+cell": {
     "cellMetadata": {},
     "inputWidgets": {},
     "nuid": "74a43a25-9db7-450d-8226-d1984169a81c",
     "showTitle": false,
     "tableResultSettingsMap": {},
     "title": ""
    }
   },
   "source": [
    "Now we need to do the next column. One way would be to just do another loop. So copy and paste your loop from above, and update it to format the next column."
   ]
  },
  {
   "cell_type": "code",
   "execution_count": 0,
   "metadata": {
    "application/vnd.databricks.v1+cell": {
     "cellMetadata": {},
     "inputWidgets": {},
     "nuid": "248d68a8-2b8c-4062-9c01-e570f7d6d33a",
     "showTitle": false,
     "tableResultSettingsMap": {},
     "title": ""
    }
   },
   "outputs": [],
   "source": []
  },
  {
   "cell_type": "markdown",
   "metadata": {
    "application/vnd.databricks.v1+cell": {
     "cellMetadata": {},
     "inputWidgets": {},
     "nuid": "9caf72e5-1d34-4d9c-98c7-9d3b350758e8",
     "showTitle": false,
     "tableResultSettingsMap": {},
     "title": ""
    }
   },
   "source": [
    "Again, we'd have to repeat this code many times to complete this. What if we had 200 columns to format? We'd have to copy and paste this 200 times!\n",
    "\n",
    "But we can use a loop again to solve this. We can put our loop inside another loop. And this time we'll loop over the columns instead of the rows.\n",
    "\n",
    "Again, let's build this up step by step. First, create a range():"
   ]
  },
  {
   "cell_type": "code",
   "execution_count": 0,
   "metadata": {
    "application/vnd.databricks.v1+cell": {
     "cellMetadata": {},
     "inputWidgets": {},
     "nuid": "cf4fcf7d-ebf9-442b-8c78-26f469b18020",
     "showTitle": false,
     "tableResultSettingsMap": {},
     "title": ""
    }
   },
   "outputs": [],
   "source": []
  },
  {
   "cell_type": "markdown",
   "metadata": {
    "application/vnd.databricks.v1+cell": {
     "cellMetadata": {},
     "inputWidgets": {},
     "nuid": "6a879b4d-6af3-4219-bdbb-3fd56f67c4ff",
     "showTitle": false,
     "tableResultSettingsMap": {},
     "title": ""
    }
   },
   "source": [
    "Next, add the range to a loop, and print out the numbers to be sure we have the right amount:"
   ]
  },
  {
   "cell_type": "code",
   "execution_count": 0,
   "metadata": {
    "application/vnd.databricks.v1+cell": {
     "cellMetadata": {},
     "inputWidgets": {},
     "nuid": "f20935e6-7e69-4a08-afb2-7550b2fc63da",
     "showTitle": false,
     "tableResultSettingsMap": {},
     "title": ""
    }
   },
   "outputs": [],
   "source": []
  },
  {
   "cell_type": "markdown",
   "metadata": {
    "application/vnd.databricks.v1+cell": {
     "cellMetadata": {},
     "inputWidgets": {},
     "nuid": "91f4f32b-0bb9-4c41-acc8-fa7bc6e258ad",
     "showTitle": false,
     "tableResultSettingsMap": {},
     "title": ""
    }
   },
   "source": [
    "Finally, put your previous loop inside this one. Watch your indentation!\n",
    "\n",
    "What do you need to update in your code to make sure the columns are formatted correctly?"
   ]
  },
  {
   "cell_type": "code",
   "execution_count": 0,
   "metadata": {
    "application/vnd.databricks.v1+cell": {
     "cellMetadata": {},
     "inputWidgets": {},
     "nuid": "0a30cbc2-4494-4607-8a62-b794150d4b1c",
     "showTitle": false,
     "tableResultSettingsMap": {},
     "title": ""
    }
   },
   "outputs": [],
   "source": []
  },
  {
   "cell_type": "markdown",
   "metadata": {
    "application/vnd.databricks.v1+cell": {
     "cellMetadata": {},
     "inputWidgets": {},
     "nuid": "5090f573-8a00-47a8-a3d2-95a5f6c2fde9",
     "showTitle": false,
     "tableResultSettingsMap": {},
     "title": ""
    }
   },
   "source": [
    "# Save the file"
   ]
  },
  {
   "cell_type": "code",
   "execution_count": 0,
   "metadata": {
    "application/vnd.databricks.v1+cell": {
     "cellMetadata": {},
     "inputWidgets": {},
     "nuid": "1112cb0e-8e6e-449c-b4dc-5cc19646d1ee",
     "showTitle": false,
     "tableResultSettingsMap": {},
     "title": ""
    }
   },
   "outputs": [],
   "source": [
    "wb.save('outputs/formatted_report.xlsx')"
   ]
  }
 ],
 "metadata": {
  "application/vnd.databricks.v1+notebook": {
   "computePreferences": null,
   "dashboards": [],
   "environmentMetadata": {
    "base_environment": "",
    "environment_version": "2"
   },
   "language": "python",
   "notebookMetadata": {
    "pythonIndentUnit": 4
   },
   "notebookName": "formatting_practice",
   "widgets": {}
  },
  "language_info": {
   "name": "python"
  }
 },
 "nbformat": 4,
 "nbformat_minor": 0
}
